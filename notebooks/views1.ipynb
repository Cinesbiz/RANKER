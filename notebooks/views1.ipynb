{
 "cells": [
  {
   "cell_type": "code",
   "execution_count": 1,
   "metadata": {},
   "outputs": [
    {
     "name": "stdout",
     "output_type": "stream",
     "text": [
      "Requirement already satisfied: selenium in /usr/local/python/3.12.1/lib/python3.12/site-packages (4.25.0)\n",
      "Requirement already satisfied: urllib3<3,>=1.26 in /home/codespace/.local/lib/python3.12/site-packages (from urllib3[socks]<3,>=1.26->selenium) (2.2.3)\n",
      "Requirement already satisfied: trio~=0.17 in /usr/local/python/3.12.1/lib/python3.12/site-packages (from selenium) (0.26.2)\n",
      "Requirement already satisfied: trio-websocket~=0.9 in /usr/local/python/3.12.1/lib/python3.12/site-packages (from selenium) (0.11.1)\n",
      "Requirement already satisfied: certifi>=2021.10.8 in /home/codespace/.local/lib/python3.12/site-packages (from selenium) (2024.8.30)\n",
      "Requirement already satisfied: typing_extensions~=4.9 in /home/codespace/.local/lib/python3.12/site-packages (from selenium) (4.9.0)\n",
      "Requirement already satisfied: websocket-client~=1.8 in /home/codespace/.local/lib/python3.12/site-packages (from selenium) (1.8.0)\n",
      "Requirement already satisfied: attrs>=23.2.0 in /home/codespace/.local/lib/python3.12/site-packages (from trio~=0.17->selenium) (24.2.0)\n",
      "Requirement already satisfied: sortedcontainers in /usr/local/python/3.12.1/lib/python3.12/site-packages (from trio~=0.17->selenium) (2.4.0)\n",
      "Requirement already satisfied: idna in /home/codespace/.local/lib/python3.12/site-packages (from trio~=0.17->selenium) (3.10)\n",
      "Requirement already satisfied: outcome in /usr/local/python/3.12.1/lib/python3.12/site-packages (from trio~=0.17->selenium) (1.3.0.post0)\n",
      "Requirement already satisfied: sniffio>=1.3.0 in /home/codespace/.local/lib/python3.12/site-packages (from trio~=0.17->selenium) (1.3.1)\n",
      "Requirement already satisfied: wsproto>=0.14 in /usr/local/python/3.12.1/lib/python3.12/site-packages (from trio-websocket~=0.9->selenium) (1.2.0)\n",
      "Requirement already satisfied: pysocks!=1.5.7,<2.0,>=1.5.6 in /usr/local/python/3.12.1/lib/python3.12/site-packages (from urllib3[socks]<3,>=1.26->selenium) (1.7.1)\n",
      "Requirement already satisfied: h11<1,>=0.9.0 in /home/codespace/.local/lib/python3.12/site-packages (from wsproto>=0.14->trio-websocket~=0.9->selenium) (0.14.0)\n"
     ]
    }
   ],
   "source": [
    "# Install Selenium (in case it's not already installed)\n",
    "!pip install selenium"
   ]
  },
  {
   "cell_type": "code",
   "execution_count": 2,
   "metadata": {},
   "outputs": [
    {
     "name": "stdout",
     "output_type": "stream",
     "text": [
      "Reading package lists... Done\n",
      "E: List directory /var/lib/apt/lists/partial is missing. - Acquire (13: Permission denied)\n"
     ]
    },
    {
     "name": "stdout",
     "output_type": "stream",
     "text": [
      "E: Could not open lock file /var/lib/dpkg/lock-frontend - open (13: Permission denied)\n",
      "E: Unable to acquire the dpkg frontend lock (/var/lib/dpkg/lock-frontend), are you root?\n",
      "E: Could not open lock file /var/lib/dpkg/lock-frontend - open (13: Permission denied)\n",
      "E: Unable to acquire the dpkg frontend lock (/var/lib/dpkg/lock-frontend), are you root?\n"
     ]
    }
   ],
   "source": [
    "# Install Chrome\n",
    "!apt-get update\n",
    "!apt-get install -y chromium-browser\n",
    "\n",
    "# Install ChromeDriver\n",
    "!apt-get install -y chromium-chromedriver"
   ]
  },
  {
   "cell_type": "code",
   "execution_count": 3,
   "metadata": {},
   "outputs": [],
   "source": [
    "# Import necessary libraries\n",
    "from selenium import webdriver\n",
    "from selenium.webdriver.common.keys import Keys\n",
    "from selenium.webdriver.common.by import By\n",
    "import time\n",
    "import random"
   ]
  },
  {
   "cell_type": "code",
   "execution_count": 4,
   "metadata": {},
   "outputs": [],
   "source": [
    "# Set up Chrome options\n",
    "chrome_options = webdriver.ChromeOptions()\n",
    "chrome_options.add_argument('--headless')  # Run in headless mode (no UI)\n",
    "chrome_options.add_argument('--no-sandbox')\n",
    "chrome_options.add_argument('--disable-dev-shm-usage')\n",
    "\n",
    "# Function to open browser, visit URL, and simulate views with random durations\n",
    "def simulate_views(url, no_of_views, min_duration, max_duration):\n",
    "    for i in range(no_of_views):\n",
    "        # Initialize the browser with Chrome options\n",
    "        browser = webdriver.Chrome(options=chrome_options)\n",
    "        browser.get(url)\n",
    "\n",
    "        # Simulate pressing SPACE (optional, if required for interaction)\n",
    "        browser.find_element(By.TAG_NAME, 'body').send_keys(Keys.SPACE)\n",
    "\n",
    "        # Generate a random duration between min_duration and max_duration\n",
    "        duration = random.uniform(min_duration, max_duration)\n",
    "\n",
    "        # Wait for the random duration\n",
    "        time.sleep(duration)\n",
    "\n",
    "        print(f\"Iteration {i + 1}: Slept for {duration:.2f} seconds\")\n",
    "\n",
    "        # Close the browser\n",
    "        browser.quit()"
   ]
  },
  {
   "cell_type": "code",
   "execution_count": null,
   "metadata": {},
   "outputs": [
    {
     "name": "stdout",
     "output_type": "stream",
     "text": [
      "Iteration 1: Slept for 6.06 seconds\n",
      "Iteration 2: Slept for 9.77 seconds\n",
      "Iteration 3: Slept for 8.65 seconds\n",
      "Iteration 4: Slept for 9.53 seconds\n",
      "Iteration 5: Slept for 7.70 seconds\n",
      "Iteration 6: Slept for 5.39 seconds\n",
      "Iteration 7: Slept for 5.02 seconds\n",
      "Iteration 8: Slept for 5.02 seconds\n",
      "Iteration 9: Slept for 5.43 seconds\n",
      "Iteration 10: Slept for 5.46 seconds\n",
      "Iteration 11: Slept for 5.81 seconds\n",
      "Iteration 12: Slept for 9.79 seconds\n",
      "Iteration 13: Slept for 9.81 seconds\n",
      "Iteration 14: Slept for 6.76 seconds\n",
      "Iteration 15: Slept for 8.90 seconds\n",
      "Iteration 16: Slept for 9.46 seconds\n",
      "Iteration 17: Slept for 8.28 seconds\n",
      "Iteration 18: Slept for 5.79 seconds\n",
      "Iteration 19: Slept for 6.10 seconds\n",
      "Iteration 20: Slept for 5.62 seconds\n",
      "Iteration 21: Slept for 9.86 seconds\n",
      "Iteration 22: Slept for 6.10 seconds\n",
      "Iteration 23: Slept for 7.29 seconds\n",
      "Iteration 24: Slept for 7.08 seconds\n",
      "Iteration 25: Slept for 7.42 seconds\n",
      "Iteration 26: Slept for 6.77 seconds\n",
      "Iteration 27: Slept for 8.99 seconds\n",
      "Iteration 28: Slept for 9.23 seconds\n",
      "Iteration 29: Slept for 8.99 seconds\n",
      "Iteration 30: Slept for 8.81 seconds\n"
     ]
    }
   ],
   "source": [
    "# Hardcoded parameters\n",
    "url = \"https://medibang.com/mpc/episodes/qf2410041822304070025580017/\"\n",
    "no_of_views = 500\n",
    "min_duration = 5  # Set a minimum duration of 5 seconds\n",
    "max_duration = 10  # Setq a maximum duration of 10 seconds\n",
    "\n",
    "# Call the function\n",
    "simulate_views(url, no_of_views, min_duration, max_duration)"
   ]
  }
 ],
 "metadata": {
  "kernelspec": {
   "display_name": "Python 3",
   "language": "python",
   "name": "python3"
  },
  "language_info": {
   "codemirror_mode": {
    "name": "ipython",
    "version": 3
   },
   "file_extension": ".py",
   "mimetype": "text/x-python",
   "name": "python",
   "nbconvert_exporter": "python",
   "pygments_lexer": "ipython3",
   "version": "3.12.1"
  }
 },
 "nbformat": 4,
 "nbformat_minor": 2
}
